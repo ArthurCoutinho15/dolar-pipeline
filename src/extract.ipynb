{
 "cells": [
  {
   "cell_type": "code",
   "execution_count": 8,
   "id": "be8a8e80",
   "metadata": {},
   "outputs": [],
   "source": [
    "import requests\n",
    "import json \n",
    "\n",
    "request = requests.get(\"https://olinda.bcb.gov.br/olinda/servico/PTAX/versao/v1\\\n",
    "    /odata/CotacaoDolarDia(dataCotacao=@dataCotacao)?%40dataCotacao='05-29-2025'&%24format=json\")\n",
    "\n",
    "response = request.json().get('value')"
   ]
  },
  {
   "cell_type": "code",
   "execution_count": 9,
   "id": "f31ead7b",
   "metadata": {},
   "outputs": [
    {
     "name": "stdout",
     "output_type": "stream",
     "text": [
      "[{'cotacaoCompra': 5.6553, 'cotacaoVenda': 5.6559, 'dataHoraCotacao': '2025-05-29 13:05:33.689'}]\n"
     ]
    }
   ],
   "source": [
    "print(response)"
   ]
  },
  {
   "cell_type": "code",
   "execution_count": null,
   "id": "21dd227e",
   "metadata": {},
   "outputs": [
    {
     "data": {
      "text/html": [
       "<div>\n",
       "<style scoped>\n",
       "    .dataframe tbody tr th:only-of-type {\n",
       "        vertical-align: middle;\n",
       "    }\n",
       "\n",
       "    .dataframe tbody tr th {\n",
       "        vertical-align: top;\n",
       "    }\n",
       "\n",
       "    .dataframe thead th {\n",
       "        text-align: right;\n",
       "    }\n",
       "</style>\n",
       "<table border=\"1\" class=\"dataframe\">\n",
       "  <thead>\n",
       "    <tr style=\"text-align: right;\">\n",
       "      <th></th>\n",
       "      <th>data_extracao</th>\n",
       "    </tr>\n",
       "  </thead>\n",
       "  <tbody>\n",
       "  </tbody>\n",
       "</table>\n",
       "</div>"
      ],
      "text/plain": [
       "Empty DataFrame\n",
       "Columns: [data_extracao]\n",
       "Index: []"
      ]
     },
     "execution_count": 7,
     "metadata": {},
     "output_type": "execute_result"
    }
   ],
   "source": [
    "import pandas as pd\n",
    "parquet_df = pd.read_parquet(r'D:\\Projetos\\Python\\Data_Engineering\\dolar-pipeline\\data\\dolar_1.parquet', engine='pyarrow')\n",
    "parquet_df"
   ]
  },
  {
   "cell_type": "code",
   "execution_count": null,
   "id": "3e34dc06",
   "metadata": {},
   "outputs": [
    {
     "name": "stdout",
     "output_type": "stream",
     "text": [
      "[{'cotacaoCompra': 4.891, 'cotacaoVenda': 4.8916, 'dataHoraCotacao': '2024-01-02 13:05:50.319'}, {'cotacaoCompra': 4.9206, 'cotacaoVenda': 4.9212, 'dataHoraCotacao': '2024-01-03 13:14:41.153'}, {'cotacaoCompra': 4.9182, 'cotacaoVenda': 4.9188, 'dataHoraCotacao': '2024-01-04 13:05:35.048'}, {'cotacaoCompra': 4.8893, 'cotacaoVenda': 4.8899, 'dataHoraCotacao': '2024-01-05 13:10:31.843'}, {'cotacaoCompra': 4.8844, 'cotacaoVenda': 4.885, 'dataHoraCotacao': '2024-01-08 13:11:30.76'}, {'cotacaoCompra': 4.8931, 'cotacaoVenda': 4.8937, 'dataHoraCotacao': '2024-01-09 13:09:30.847'}, {'cotacaoCompra': 4.8895, 'cotacaoVenda': 4.8901, 'dataHoraCotacao': '2024-01-10 13:09:34.773'}, {'cotacaoCompra': 4.8788, 'cotacaoVenda': 4.8794, 'dataHoraCotacao': '2024-01-11 17:03:40.62'}, {'cotacaoCompra': 4.8537, 'cotacaoVenda': 4.8543, 'dataHoraCotacao': '2024-01-12 13:26:56.442'}, {'cotacaoCompra': 4.8759, 'cotacaoVenda': 4.8765, 'dataHoraCotacao': '2024-01-15 13:38:08.191'}, {'cotacaoCompra': 4.9032, 'cotacaoVenda': 4.9038, 'dataHoraCotacao': '2024-01-16 13:35:20.885'}, {'cotacaoCompra': 4.934, 'cotacaoVenda': 4.9346, 'dataHoraCotacao': '2024-01-17 14:31:39.649'}, {'cotacaoCompra': 4.9397, 'cotacaoVenda': 4.9403, 'dataHoraCotacao': '2024-01-18 14:01:21.265'}, {'cotacaoCompra': 4.9217, 'cotacaoVenda': 4.9223, 'dataHoraCotacao': '2024-01-19 13:47:20.596'}, {'cotacaoCompra': 4.9484, 'cotacaoVenda': 4.949, 'dataHoraCotacao': '2024-01-22 14:01:41.133'}, {'cotacaoCompra': 4.9709, 'cotacaoVenda': 4.9715, 'dataHoraCotacao': '2024-01-23 13:45:44.855'}, {'cotacaoCompra': 4.9186, 'cotacaoVenda': 4.9192, 'dataHoraCotacao': '2024-01-24 15:11:37.211'}, {'cotacaoCompra': 4.9226, 'cotacaoVenda': 4.9232, 'dataHoraCotacao': '2024-01-25 14:04:32.162'}, {'cotacaoCompra': 4.9119, 'cotacaoVenda': 4.9125, 'dataHoraCotacao': '2024-01-26 15:32:06.422'}, {'cotacaoCompra': 4.9219, 'cotacaoVenda': 4.9225, 'dataHoraCotacao': '2024-01-29 13:32:10.106'}, {'cotacaoCompra': 4.9632, 'cotacaoVenda': 4.9638, 'dataHoraCotacao': '2024-01-30 14:41:21.832'}, {'cotacaoCompra': 4.9529, 'cotacaoVenda': 4.9535, 'dataHoraCotacao': '2024-01-31 15:06:26.221'}, {'cotacaoCompra': 4.9344, 'cotacaoVenda': 4.935, 'dataHoraCotacao': '2024-02-01 14:06:13.552'}, {'cotacaoCompra': 4.9465, 'cotacaoVenda': 4.9471, 'dataHoraCotacao': '2024-02-02 14:40:09.601'}, {'cotacaoCompra': 5.0047, 'cotacaoVenda': 5.0053, 'dataHoraCotacao': '2024-02-05 13:56:02.361'}, {'cotacaoCompra': 4.9681, 'cotacaoVenda': 4.9687, 'dataHoraCotacao': '2024-02-06 15:11:48.19'}, {'cotacaoCompra': 4.9602, 'cotacaoVenda': 4.9608, 'dataHoraCotacao': '2024-02-07 14:22:27.517'}, {'cotacaoCompra': 4.9798, 'cotacaoVenda': 4.9804, 'dataHoraCotacao': '2024-02-08 15:58:03.35'}, {'cotacaoCompra': 4.9711, 'cotacaoVenda': 4.9717, 'dataHoraCotacao': '2024-02-09 17:00:17.365'}, {'cotacaoCompra': 4.9717, 'cotacaoVenda': 4.9723, 'dataHoraCotacao': '2024-02-14 16:08:18.894'}, {'cotacaoCompra': 4.9704, 'cotacaoVenda': 4.971, 'dataHoraCotacao': '2024-02-15 15:48:58.708'}, {'cotacaoCompra': 4.9755, 'cotacaoVenda': 4.9761, 'dataHoraCotacao': '2024-02-16 15:17:16.154'}, {'cotacaoCompra': 4.9579, 'cotacaoVenda': 4.9585, 'dataHoraCotacao': '2024-02-19 16:19:32.578'}, {'cotacaoCompra': 4.9402, 'cotacaoVenda': 4.9408, 'dataHoraCotacao': '2024-02-20 16:53:02.73'}, {'cotacaoCompra': 4.9297, 'cotacaoVenda': 4.9303, 'dataHoraCotacao': '2024-02-21 16:55:39.485'}, {'cotacaoCompra': 4.9413, 'cotacaoVenda': 4.9419, 'dataHoraCotacao': '2024-02-22 14:54:54.287'}, {'cotacaoCompra': 4.9845, 'cotacaoVenda': 4.9851, 'dataHoraCotacao': '2024-02-23 15:22:33.596'}, {'cotacaoCompra': 4.9813, 'cotacaoVenda': 4.9819, 'dataHoraCotacao': '2024-02-26 14:20:09.253'}, {'cotacaoCompra': 4.9569, 'cotacaoVenda': 4.9575, 'dataHoraCotacao': '2024-02-27 15:46:53.499'}, {'cotacaoCompra': 4.9551, 'cotacaoVenda': 4.9557, 'dataHoraCotacao': '2024-02-28 15:24:17.185'}, {'cotacaoCompra': 4.9827, 'cotacaoVenda': 4.9833, 'dataHoraCotacao': '2024-02-29 14:45:45.193'}, {'cotacaoCompra': 4.959, 'cotacaoVenda': 4.9596, 'dataHoraCotacao': '2024-03-01 16:03:40.975'}, {'cotacaoCompra': 4.9469, 'cotacaoVenda': 4.9475, 'dataHoraCotacao': '2024-03-04 14:42:02.179'}, {'cotacaoCompra': 4.9482, 'cotacaoVenda': 4.9488, 'dataHoraCotacao': '2024-03-05 15:43:56.827'}, {'cotacaoCompra': 4.9392, 'cotacaoVenda': 4.9398, 'dataHoraCotacao': '2024-03-06 14:56:03.471'}, {'cotacaoCompra': 4.9358, 'cotacaoVenda': 4.9364, 'dataHoraCotacao': '2024-03-07 15:18:18.444'}, {'cotacaoCompra': 4.9745, 'cotacaoVenda': 4.9751, 'dataHoraCotacao': '2024-03-08 15:00:11.918'}, {'cotacaoCompra': 4.9771, 'cotacaoVenda': 4.9777, 'dataHoraCotacao': '2024-03-11 15:31:13.971'}, {'cotacaoCompra': 4.9807, 'cotacaoVenda': 4.9813, 'dataHoraCotacao': '2024-03-12 14:50:50.46'}, {'cotacaoCompra': 4.9797, 'cotacaoVenda': 4.9803, 'dataHoraCotacao': '2024-03-13 15:55:01.791'}, {'cotacaoCompra': 4.9762, 'cotacaoVenda': 4.9768, 'dataHoraCotacao': '2024-03-14 14:45:30.493'}, {'cotacaoCompra': 4.9931, 'cotacaoVenda': 4.9937, 'dataHoraCotacao': '2024-03-15 15:16:04.201'}, {'cotacaoCompra': 5.0118, 'cotacaoVenda': 5.0124, 'dataHoraCotacao': '2024-03-18 14:10:32.77'}, {'cotacaoCompra': 5.0346, 'cotacaoVenda': 5.0352, 'dataHoraCotacao': '2024-03-19 15:40:01.534'}, {'cotacaoCompra': 5.0114, 'cotacaoVenda': 5.012, 'dataHoraCotacao': '2024-03-20 13:45:09.098'}, {'cotacaoCompra': 4.9801, 'cotacaoVenda': 4.9807, 'dataHoraCotacao': '2024-03-21 14:36:42.31'}, {'cotacaoCompra': 4.9891, 'cotacaoVenda': 4.9897, 'dataHoraCotacao': '2024-03-22 15:15:23.867'}, {'cotacaoCompra': 4.9863, 'cotacaoVenda': 4.9869, 'dataHoraCotacao': '2024-03-25 16:00:00.987'}, {'cotacaoCompra': 4.9864, 'cotacaoVenda': 4.987, 'dataHoraCotacao': '2024-03-26 15:40:45.601'}, {'cotacaoCompra': 4.985, 'cotacaoVenda': 4.9856, 'dataHoraCotacao': '2024-03-27 15:15:35.846'}, {'cotacaoCompra': 4.9956, 'cotacaoVenda': 4.9962, 'dataHoraCotacao': '2024-03-28 14:40:02.052'}, {'cotacaoCompra': 5.0526, 'cotacaoVenda': 5.0532, 'dataHoraCotacao': '2024-04-01 15:50:06.195'}, {'cotacaoCompra': 5.0469, 'cotacaoVenda': 5.0476, 'dataHoraCotacao': '2024-04-02 16:38:13.184'}, {'cotacaoCompra': 5.0718, 'cotacaoVenda': 5.0724, 'dataHoraCotacao': '2024-04-03 15:35:28.284'}, {'cotacaoCompra': 5.0231, 'cotacaoVenda': 5.0237, 'dataHoraCotacao': '2024-04-04 14:45:04.02'}, {'cotacaoCompra': 5.0514, 'cotacaoVenda': 5.052, 'dataHoraCotacao': '2024-04-05 15:55:09.26'}, {'cotacaoCompra': 5.0415, 'cotacaoVenda': 5.0421, 'dataHoraCotacao': '2024-04-08 15:00:05.182'}, {'cotacaoCompra': 5.0074, 'cotacaoVenda': 5.008, 'dataHoraCotacao': '2024-04-09 15:50:01.524'}, {'cotacaoCompra': 5.0648, 'cotacaoVenda': 5.0654, 'dataHoraCotacao': '2024-04-10 15:59:06.586'}, {'cotacaoCompra': 5.0759, 'cotacaoVenda': 5.0765, 'dataHoraCotacao': '2024-04-11 14:55:12.983'}, {'cotacaoCompra': 5.1358, 'cotacaoVenda': 5.1364, 'dataHoraCotacao': '2024-04-12 15:00:05.522'}, {'cotacaoCompra': 5.174, 'cotacaoVenda': 5.1746, 'dataHoraCotacao': '2024-04-15 15:59:49.891'}, {'cotacaoCompra': 5.2628, 'cotacaoVenda': 5.2635, 'dataHoraCotacao': '2024-04-16 15:50:06.851'}, {'cotacaoCompra': 5.2463, 'cotacaoVenda': 5.2469, 'dataHoraCotacao': '2024-04-17 16:00:09.134'}, {'cotacaoCompra': 5.2506, 'cotacaoVenda': 5.2512, 'dataHoraCotacao': '2024-04-18 16:00:18.309'}, {'cotacaoCompra': 5.2263, 'cotacaoVenda': 5.2269, 'dataHoraCotacao': '2024-04-19 14:59:03.689'}, {'cotacaoCompra': 5.2037, 'cotacaoVenda': 5.2043, 'dataHoraCotacao': '2024-04-22 16:00:10.542'}, {'cotacaoCompra': 5.162, 'cotacaoVenda': 5.1626, 'dataHoraCotacao': '2024-04-23 15:35:21.576'}, {'cotacaoCompra': 5.1586, 'cotacaoVenda': 5.1592, 'dataHoraCotacao': '2024-04-24 14:57:25.36'}, {'cotacaoCompra': 5.1673, 'cotacaoVenda': 5.1679, 'dataHoraCotacao': '2024-04-25 15:16:13.834'}, {'cotacaoCompra': 5.1178, 'cotacaoVenda': 5.1184, 'dataHoraCotacao': '2024-04-26 15:44:48.581'}, {'cotacaoCompra': 5.1149, 'cotacaoVenda': 5.1155, 'dataHoraCotacao': '2024-04-29 13:08:20.023'}, {'cotacaoCompra': 5.1712, 'cotacaoVenda': 5.1718, 'dataHoraCotacao': '2024-04-30 13:09:37.423'}, {'cotacaoCompra': 5.1178, 'cotacaoVenda': 5.1184, 'dataHoraCotacao': '2024-05-02 13:07:09.245'}, {'cotacaoCompra': 5.0662, 'cotacaoVenda': 5.0668, 'dataHoraCotacao': '2024-05-03 13:06:33.607'}, {'cotacaoCompra': 5.0721, 'cotacaoVenda': 5.0727, 'dataHoraCotacao': '2024-05-06 13:06:55.822'}, {'cotacaoCompra': 5.0604, 'cotacaoVenda': 5.061, 'dataHoraCotacao': '2024-05-07 13:05:59.873'}, {'cotacaoCompra': 5.0881, 'cotacaoVenda': 5.0887, 'dataHoraCotacao': '2024-05-08 13:07:29.848'}, {'cotacaoCompra': 5.1571, 'cotacaoVenda': 5.1577, 'dataHoraCotacao': '2024-05-09 13:07:40.583'}, {'cotacaoCompra': 5.1458, 'cotacaoVenda': 5.1464, 'dataHoraCotacao': '2024-05-10 13:04:52.798'}, {'cotacaoCompra': 5.1406, 'cotacaoVenda': 5.1412, 'dataHoraCotacao': '2024-05-13 13:11:29.962'}, {'cotacaoCompra': 5.135, 'cotacaoVenda': 5.1356, 'dataHoraCotacao': '2024-05-14 13:04:30.818'}, {'cotacaoCompra': 5.1417, 'cotacaoVenda': 5.1423, 'dataHoraCotacao': '2024-05-15 13:06:32.351'}, {'cotacaoCompra': 5.1264, 'cotacaoVenda': 5.127, 'dataHoraCotacao': '2024-05-16 13:09:44.0'}, {'cotacaoCompra': 5.1151, 'cotacaoVenda': 5.1157, 'dataHoraCotacao': '2024-05-17 13:10:28.887'}, {'cotacaoCompra': 5.1079, 'cotacaoVenda': 5.1085, 'dataHoraCotacao': '2024-05-20 13:07:32.028'}, {'cotacaoCompra': 5.1031, 'cotacaoVenda': 5.1037, 'dataHoraCotacao': '2024-05-21 13:06:29.619'}, {'cotacaoCompra': 5.1496, 'cotacaoVenda': 5.1502, 'dataHoraCotacao': '2024-05-22 13:05:28.792'}, {'cotacaoCompra': 5.1437, 'cotacaoVenda': 5.1443, 'dataHoraCotacao': '2024-05-23 13:03:33.437'}, {'cotacaoCompra': 5.1502, 'cotacaoVenda': 5.1508, 'dataHoraCotacao': '2024-05-24 13:07:40.904'}, {'cotacaoCompra': 5.1698, 'cotacaoVenda': 5.1704, 'dataHoraCotacao': '2024-05-27 13:15:28.728'}, {'cotacaoCompra': 5.1532, 'cotacaoVenda': 5.1538, 'dataHoraCotacao': '2024-05-28 13:11:46.492'}, {'cotacaoCompra': 5.1966, 'cotacaoVenda': 5.1972, 'dataHoraCotacao': '2024-05-29 13:07:36.41'}, {'cotacaoCompra': 5.241, 'cotacaoVenda': 5.2416, 'dataHoraCotacao': '2024-05-31 13:03:45.288'}, {'cotacaoCompra': 5.2367, 'cotacaoVenda': 5.2373, 'dataHoraCotacao': '2024-06-03 13:11:47.244'}, {'cotacaoCompra': 5.2681, 'cotacaoVenda': 5.2687, 'dataHoraCotacao': '2024-06-04 13:02:40.107'}, {'cotacaoCompra': 5.2835, 'cotacaoVenda': 5.2841, 'dataHoraCotacao': '2024-06-05 13:07:32.62'}, {'cotacaoCompra': 5.2675, 'cotacaoVenda': 5.2681, 'dataHoraCotacao': '2024-06-06 13:10:31.917'}, {'cotacaoCompra': 5.2796, 'cotacaoVenda': 5.2802, 'dataHoraCotacao': '2024-06-07 13:04:53.322'}, {'cotacaoCompra': 5.366, 'cotacaoVenda': 5.3666, 'dataHoraCotacao': '2024-06-10 13:09:35.959'}, {'cotacaoCompra': 5.3519, 'cotacaoVenda': 5.3524, 'dataHoraCotacao': '2024-06-11 13:08:34.928'}, {'cotacaoCompra': 5.3885, 'cotacaoVenda': 5.3891, 'dataHoraCotacao': '2024-06-12 13:11:32.222'}, {'cotacaoCompra': 5.3968, 'cotacaoVenda': 5.3974, 'dataHoraCotacao': '2024-06-13 13:11:06.004'}, {'cotacaoCompra': 5.3624, 'cotacaoVenda': 5.363, 'dataHoraCotacao': '2024-06-14 13:06:31.494'}, {'cotacaoCompra': 5.4124, 'cotacaoVenda': 5.413, 'dataHoraCotacao': '2024-06-17 13:10:32.154'}, {'cotacaoCompra': 5.4068, 'cotacaoVenda': 5.4074, 'dataHoraCotacao': '2024-06-18 13:07:40.49'}, {'cotacaoCompra': 5.4641, 'cotacaoVenda': 5.4647, 'dataHoraCotacao': '2024-06-19 13:09:27.702'}, {'cotacaoCompra': 5.4248, 'cotacaoVenda': 5.4254, 'dataHoraCotacao': '2024-06-20 13:02:51.523'}, {'cotacaoCompra': 5.441, 'cotacaoVenda': 5.4416, 'dataHoraCotacao': '2024-06-21 13:05:36.455'}, {'cotacaoCompra': 5.3994, 'cotacaoVenda': 5.4, 'dataHoraCotacao': '2024-06-24 13:10:29.145'}, {'cotacaoCompra': 5.4283, 'cotacaoVenda': 5.429, 'dataHoraCotacao': '2024-06-25 13:11:31.488'}, {'cotacaoCompra': 5.5091, 'cotacaoVenda': 5.5097, 'dataHoraCotacao': '2024-06-26 13:10:43.551'}, {'cotacaoCompra': 5.5223, 'cotacaoVenda': 5.5229, 'dataHoraCotacao': '2024-06-27 13:02:38.797'}, {'cotacaoCompra': 5.5583, 'cotacaoVenda': 5.5589, 'dataHoraCotacao': '2024-06-28 13:08:04.301'}, {'cotacaoCompra': 5.5887, 'cotacaoVenda': 5.5893, 'dataHoraCotacao': '2024-07-01 13:03:57.329'}, {'cotacaoCompra': 5.6671, 'cotacaoVenda': 5.6677, 'dataHoraCotacao': '2024-07-02 13:08:31.707'}, {'cotacaoCompra': 5.5857, 'cotacaoVenda': 5.5863, 'dataHoraCotacao': '2024-07-03 13:10:34.446'}, {'cotacaoCompra': 5.4833, 'cotacaoVenda': 5.4839, 'dataHoraCotacao': '2024-07-04 13:04:34.656'}, {'cotacaoCompra': 5.4964, 'cotacaoVenda': 5.497, 'dataHoraCotacao': '2024-07-05 13:03:27.921'}, {'cotacaoCompra': 5.4714, 'cotacaoVenda': 5.472, 'dataHoraCotacao': '2024-07-08 13:03:31.513'}, {'cotacaoCompra': 5.4381, 'cotacaoVenda': 5.4387, 'dataHoraCotacao': '2024-07-09 13:08:29.676'}, {'cotacaoCompra': 5.3961, 'cotacaoVenda': 5.3967, 'dataHoraCotacao': '2024-07-10 13:10:36.509'}, {'cotacaoCompra': 5.4094, 'cotacaoVenda': 5.41, 'dataHoraCotacao': '2024-07-11 13:07:31.998'}, {'cotacaoCompra': 5.4523, 'cotacaoVenda': 5.4529, 'dataHoraCotacao': '2024-07-12 13:11:28.352'}, {'cotacaoCompra': 5.4557, 'cotacaoVenda': 5.4563, 'dataHoraCotacao': '2024-07-15 13:08:31.802'}, {'cotacaoCompra': 5.4268, 'cotacaoVenda': 5.4274, 'dataHoraCotacao': '2024-07-16 13:02:29.319'}, {'cotacaoCompra': 5.4664, 'cotacaoVenda': 5.467, 'dataHoraCotacao': '2024-07-17 13:07:51.556'}, {'cotacaoCompra': 5.542, 'cotacaoVenda': 5.5426, 'dataHoraCotacao': '2024-07-18 13:06:33.813'}, {'cotacaoCompra': 5.5537, 'cotacaoVenda': 5.5543, 'dataHoraCotacao': '2024-07-19 13:08:27.646'}, {'cotacaoCompra': 5.5592, 'cotacaoVenda': 5.5598, 'dataHoraCotacao': '2024-07-22 13:02:41.989'}, {'cotacaoCompra': 5.5801, 'cotacaoVenda': 5.5807, 'dataHoraCotacao': '2024-07-23 13:07:28.133'}, {'cotacaoCompra': 5.634, 'cotacaoVenda': 5.6346, 'dataHoraCotacao': '2024-07-24 13:10:32.611'}, {'cotacaoCompra': 5.6396, 'cotacaoVenda': 5.6402, 'dataHoraCotacao': '2024-07-25 13:02:31.161'}, {'cotacaoCompra': 5.6459, 'cotacaoVenda': 5.6465, 'dataHoraCotacao': '2024-07-26 13:08:45.786'}, {'cotacaoCompra': 5.6473, 'cotacaoVenda': 5.6479, 'dataHoraCotacao': '2024-07-29 13:08:38.103'}, {'cotacaoCompra': 5.6526, 'cotacaoVenda': 5.6532, 'dataHoraCotacao': '2024-07-30 13:05:29.119'}, {'cotacaoCompra': 5.6615, 'cotacaoVenda': 5.6621, 'dataHoraCotacao': '2024-07-31 13:06:27.451'}, {'cotacaoCompra': 5.6675, 'cotacaoVenda': 5.6681, 'dataHoraCotacao': '2024-08-01 13:04:45.039'}, {'cotacaoCompra': 5.736, 'cotacaoVenda': 5.7366, 'dataHoraCotacao': '2024-08-02 13:08:25.895'}, {'cotacaoCompra': 5.764, 'cotacaoVenda': 5.7646, 'dataHoraCotacao': '2024-08-05 13:04:30.94'}, {'cotacaoCompra': 5.6522, 'cotacaoVenda': 5.6528, 'dataHoraCotacao': '2024-08-06 13:07:56.736'}, {'cotacaoCompra': 5.6087, 'cotacaoVenda': 5.6093, 'dataHoraCotacao': '2024-08-07 13:11:35.951'}, {'cotacaoCompra': 5.6166, 'cotacaoVenda': 5.6172, 'dataHoraCotacao': '2024-08-08 13:05:28.691'}, {'cotacaoCompra': 5.5109, 'cotacaoVenda': 5.5115, 'dataHoraCotacao': '2024-08-09 13:03:28.543'}, {'cotacaoCompra': 5.4905, 'cotacaoVenda': 5.4911, 'dataHoraCotacao': '2024-08-12 13:02:28.229'}, {'cotacaoCompra': 5.4869, 'cotacaoVenda': 5.4875, 'dataHoraCotacao': '2024-08-13 13:09:28.245'}, {'cotacaoCompra': 5.4496, 'cotacaoVenda': 5.4502, 'dataHoraCotacao': '2024-08-14 13:08:26.791'}, {'cotacaoCompra': 5.4645, 'cotacaoVenda': 5.4651, 'dataHoraCotacao': '2024-08-15 13:11:27.417'}, {'cotacaoCompra': 5.4626, 'cotacaoVenda': 5.4632, 'dataHoraCotacao': '2024-08-16 13:05:26.51'}, {'cotacaoCompra': 5.4231, 'cotacaoVenda': 5.4237, 'dataHoraCotacao': '2024-08-19 13:10:28.41'}, {'cotacaoCompra': 5.4541, 'cotacaoVenda': 5.4547, 'dataHoraCotacao': '2024-08-20 13:05:29.267'}, {'cotacaoCompra': 5.4701, 'cotacaoVenda': 5.4707, 'dataHoraCotacao': '2024-08-21 13:07:29.765'}, {'cotacaoCompra': 5.5518, 'cotacaoVenda': 5.5524, 'dataHoraCotacao': '2024-08-22 13:09:28.648'}, {'cotacaoCompra': 5.5257, 'cotacaoVenda': 5.5263, 'dataHoraCotacao': '2024-08-23 13:11:28.946'}, {'cotacaoCompra': 5.4915, 'cotacaoVenda': 5.4921, 'dataHoraCotacao': '2024-08-26 13:12:40.667'}, {'cotacaoCompra': 5.4963, 'cotacaoVenda': 5.4969, 'dataHoraCotacao': '2024-08-27 13:06:27.781'}, {'cotacaoCompra': 5.5309, 'cotacaoVenda': 5.5315, 'dataHoraCotacao': '2024-08-28 13:11:27.534'}, {'cotacaoCompra': 5.6352, 'cotacaoVenda': 5.6358, 'dataHoraCotacao': '2024-08-29 13:06:29.452'}, {'cotacaoCompra': 5.6556, 'cotacaoVenda': 5.6562, 'dataHoraCotacao': '2024-08-30 13:03:31.368'}, {'cotacaoCompra': 5.6224, 'cotacaoVenda': 5.623, 'dataHoraCotacao': '2024-09-02 13:08:26.344'}, {'cotacaoCompra': 5.6218, 'cotacaoVenda': 5.6224, 'dataHoraCotacao': '2024-09-03 13:09:53.648'}, {'cotacaoCompra': 5.6353, 'cotacaoVenda': 5.6359, 'dataHoraCotacao': '2024-09-04 13:10:25.751'}, {'cotacaoCompra': 5.6043, 'cotacaoVenda': 5.6049, 'dataHoraCotacao': '2024-09-05 13:08:11.367'}, {'cotacaoCompra': 5.5696, 'cotacaoVenda': 5.5702, 'dataHoraCotacao': '2024-09-06 13:05:28.557'}, {'cotacaoCompra': 5.6091, 'cotacaoVenda': 5.6097, 'dataHoraCotacao': '2024-09-09 13:05:33.843'}, {'cotacaoCompra': 5.6248, 'cotacaoVenda': 5.6254, 'dataHoraCotacao': '2024-09-10 13:10:31.119'}, {'cotacaoCompra': 5.6381, 'cotacaoVenda': 5.6387, 'dataHoraCotacao': '2024-09-11 14:59:41.798'}, {'cotacaoCompra': 5.6548, 'cotacaoVenda': 5.6554, 'dataHoraCotacao': '2024-09-12 13:09:32.111'}, {'cotacaoCompra': 5.5711, 'cotacaoVenda': 5.5717, 'dataHoraCotacao': '2024-09-13 13:06:29.112'}, {'cotacaoCompra': 5.5201, 'cotacaoVenda': 5.5207, 'dataHoraCotacao': '2024-09-16 13:02:31.597'}, {'cotacaoCompra': 5.5004, 'cotacaoVenda': 5.501, 'dataHoraCotacao': '2024-09-17 13:03:32.089'}, {'cotacaoCompra': 5.4761, 'cotacaoVenda': 5.4767, 'dataHoraCotacao': '2024-09-18 13:11:29.915'}, {'cotacaoCompra': 5.4183, 'cotacaoVenda': 5.4189, 'dataHoraCotacao': '2024-09-19 13:07:27.527'}, {'cotacaoCompra': 5.4769, 'cotacaoVenda': 5.4775, 'dataHoraCotacao': '2024-09-20 13:02:38.238'}, {'cotacaoCompra': 5.544, 'cotacaoVenda': 5.5446, 'dataHoraCotacao': '2024-09-23 13:04:14.017'}, {'cotacaoCompra': 5.4696, 'cotacaoVenda': 5.4702, 'dataHoraCotacao': '2024-09-24 13:08:32.842'}, {'cotacaoCompra': 5.473, 'cotacaoVenda': 5.4736, 'dataHoraCotacao': '2024-09-25 13:11:28.617'}, {'cotacaoCompra': 5.4406, 'cotacaoVenda': 5.4412, 'dataHoraCotacao': '2024-09-26 13:09:31.055'}, {'cotacaoCompra': 5.4425, 'cotacaoVenda': 5.4431, 'dataHoraCotacao': '2024-09-27 13:12:31.787'}, {'cotacaoCompra': 5.4475, 'cotacaoVenda': 5.4481, 'dataHoraCotacao': '2024-09-30 13:08:57.897'}, {'cotacaoCompra': 5.4515, 'cotacaoVenda': 5.4521, 'dataHoraCotacao': '2024-10-01 13:10:02.0'}, {'cotacaoCompra': 5.4299, 'cotacaoVenda': 5.4305, 'dataHoraCotacao': '2024-10-02 13:13:14.315'}, {'cotacaoCompra': 5.4844, 'cotacaoVenda': 5.485, 'dataHoraCotacao': '2024-10-03 13:06:31.51'}, {'cotacaoCompra': 5.468, 'cotacaoVenda': 5.4686, 'dataHoraCotacao': '2024-10-04 13:11:35.313'}, {'cotacaoCompra': 5.462, 'cotacaoVenda': 5.4626, 'dataHoraCotacao': '2024-10-07 13:04:28.548'}, {'cotacaoCompra': 5.5191, 'cotacaoVenda': 5.5197, 'dataHoraCotacao': '2024-10-08 13:11:40.442'}, {'cotacaoCompra': 5.5731, 'cotacaoVenda': 5.5737, 'dataHoraCotacao': '2024-10-09 13:09:40.942'}, {'cotacaoCompra': 5.5813, 'cotacaoVenda': 5.5819, 'dataHoraCotacao': '2024-10-10 13:13:44.916'}, {'cotacaoCompra': 5.6257, 'cotacaoVenda': 5.6263, 'dataHoraCotacao': '2024-10-11 13:04:30.872'}, {'cotacaoCompra': 5.6039, 'cotacaoVenda': 5.6045, 'dataHoraCotacao': '2024-10-14 13:09:27.371'}, {'cotacaoCompra': 5.6372, 'cotacaoVenda': 5.6378, 'dataHoraCotacao': '2024-10-15 13:06:27.393'}, {'cotacaoCompra': 5.6743, 'cotacaoVenda': 5.6749, 'dataHoraCotacao': '2024-10-16 13:02:28.074'}, {'cotacaoCompra': 5.6752, 'cotacaoVenda': 5.6758, 'dataHoraCotacao': '2024-10-17 13:03:30.348'}, {'cotacaoCompra': 5.6666, 'cotacaoVenda': 5.6672, 'dataHoraCotacao': '2024-10-18 13:11:27.157'}, {'cotacaoCompra': 5.7062, 'cotacaoVenda': 5.7068, 'dataHoraCotacao': '2024-10-21 13:03:32.211'}, {'cotacaoCompra': 5.6952, 'cotacaoVenda': 5.6958, 'dataHoraCotacao': '2024-10-22 13:06:30.894'}, {'cotacaoCompra': 5.7143, 'cotacaoVenda': 5.7149, 'dataHoraCotacao': '2024-10-23 13:03:29.972'}, {'cotacaoCompra': 5.7081, 'cotacaoVenda': 5.7087, 'dataHoraCotacao': '2024-10-24 13:07:25.935'}, {'cotacaoCompra': 5.6963, 'cotacaoVenda': 5.6969, 'dataHoraCotacao': '2024-10-25 13:11:30.239'}, {'cotacaoCompra': 5.6982, 'cotacaoVenda': 5.6988, 'dataHoraCotacao': '2024-10-28 13:02:32.494'}, {'cotacaoCompra': 5.7134, 'cotacaoVenda': 5.714, 'dataHoraCotacao': '2024-10-29 13:09:32.089'}, {'cotacaoCompra': 5.7795, 'cotacaoVenda': 5.7801, 'dataHoraCotacao': '2024-10-30 13:05:35.096'}, {'cotacaoCompra': 5.7773, 'cotacaoVenda': 5.7779, 'dataHoraCotacao': '2024-10-31 13:09:27.538'}, {'cotacaoCompra': 5.8067, 'cotacaoVenda': 5.8073, 'dataHoraCotacao': '2024-11-01 13:03:27.646'}, {'cotacaoCompra': 5.7892, 'cotacaoVenda': 5.7898, 'dataHoraCotacao': '2024-11-04 13:02:46.918'}, {'cotacaoCompra': 5.784, 'cotacaoVenda': 5.7846, 'dataHoraCotacao': '2024-11-05 13:08:29.428'}, {'cotacaoCompra': 5.7642, 'cotacaoVenda': 5.7648, 'dataHoraCotacao': '2024-11-06 13:03:27.848'}, {'cotacaoCompra': 5.6618, 'cotacaoVenda': 5.6624, 'dataHoraCotacao': '2024-11-07 13:02:27.796'}, {'cotacaoCompra': 5.7642, 'cotacaoVenda': 5.7648, 'dataHoraCotacao': '2024-11-08 13:05:28.232'}, {'cotacaoCompra': 5.7974, 'cotacaoVenda': 5.798, 'dataHoraCotacao': '2024-11-11 13:02:29.081'}, {'cotacaoCompra': 5.7688, 'cotacaoVenda': 5.7694, 'dataHoraCotacao': '2024-11-12 13:06:27.435'}, {'cotacaoCompra': 5.7707, 'cotacaoVenda': 5.7713, 'dataHoraCotacao': '2024-11-13 13:02:28.602'}, {'cotacaoCompra': 5.7879, 'cotacaoVenda': 5.7885, 'dataHoraCotacao': '2024-11-14 13:06:28.504'}, {'cotacaoCompra': 5.7597, 'cotacaoVenda': 5.7603, 'dataHoraCotacao': '2024-11-18 13:10:28.511'}, {'cotacaoCompra': 5.7737, 'cotacaoVenda': 5.7743, 'dataHoraCotacao': '2024-11-19 13:06:31.265'}, {'cotacaoCompra': 5.8167, 'cotacaoVenda': 5.8173, 'dataHoraCotacao': '2024-11-21 13:11:27.977'}, {'cotacaoCompra': 5.8118, 'cotacaoVenda': 5.8124, 'dataHoraCotacao': '2024-11-22 13:09:34.496'}, {'cotacaoCompra': 5.7996, 'cotacaoVenda': 5.8002, 'dataHoraCotacao': '2024-11-25 13:08:26.716'}, {'cotacaoCompra': 5.7984, 'cotacaoVenda': 5.799, 'dataHoraCotacao': '2024-11-26 13:12:53.41'}, {'cotacaoCompra': 5.8285, 'cotacaoVenda': 5.8291, 'dataHoraCotacao': '2024-11-27 13:02:27.461'}, {'cotacaoCompra': 5.9865, 'cotacaoVenda': 5.9871, 'dataHoraCotacao': '2024-11-28 13:05:32.071'}, {'cotacaoCompra': 6.0529, 'cotacaoVenda': 6.0535, 'dataHoraCotacao': '2024-11-29 13:07:34.549'}, {'cotacaoCompra': 6.0628, 'cotacaoVenda': 6.0634, 'dataHoraCotacao': '2024-12-02 13:08:27.675'}, {'cotacaoCompra': 6.0701, 'cotacaoVenda': 6.0707, 'dataHoraCotacao': '2024-12-03 13:06:28.582'}, {'cotacaoCompra': 6.0575, 'cotacaoVenda': 6.0581, 'dataHoraCotacao': '2024-12-04 13:02:28.851'}, {'cotacaoCompra': 5.9843, 'cotacaoVenda': 5.9849, 'dataHoraCotacao': '2024-12-05 13:06:30.81'}, {'cotacaoCompra': 6.0287, 'cotacaoVenda': 6.0293, 'dataHoraCotacao': '2024-12-06 13:07:27.027'}, {'cotacaoCompra': 6.0564, 'cotacaoVenda': 6.057, 'dataHoraCotacao': '2024-12-09 13:10:28.135'}, {'cotacaoCompra': 6.0523, 'cotacaoVenda': 6.0529, 'dataHoraCotacao': '2024-12-10 13:11:51.717'}, {'cotacaoCompra': 6.0314, 'cotacaoVenda': 6.032, 'dataHoraCotacao': '2024-12-11 13:05:29.188'}, {'cotacaoCompra': 5.9402, 'cotacaoVenda': 5.9408, 'dataHoraCotacao': '2024-12-12 13:10:28.002'}, {'cotacaoCompra': 6.0394, 'cotacaoVenda': 6.04, 'dataHoraCotacao': '2024-12-13 13:11:29.446'}, {'cotacaoCompra': 6.0504, 'cotacaoVenda': 6.0509, 'dataHoraCotacao': '2024-12-16 13:11:37.029'}, {'cotacaoCompra': 6.1679, 'cotacaoVenda': 6.1685, 'dataHoraCotacao': '2024-12-17 13:02:29.934'}, {'cotacaoCompra': 6.1618, 'cotacaoVenda': 6.1624, 'dataHoraCotacao': '2024-12-18 13:05:29.757'}, {'cotacaoCompra': 6.1835, 'cotacaoVenda': 6.1841, 'dataHoraCotacao': '2024-12-19 13:03:32.087'}, {'cotacaoCompra': 6.0774, 'cotacaoVenda': 6.078, 'dataHoraCotacao': '2024-12-20 13:08:36.643'}, {'cotacaoCompra': 6.1606, 'cotacaoVenda': 6.1612, 'dataHoraCotacao': '2024-12-23 13:03:27.687'}, {'cotacaoCompra': 6.1527, 'cotacaoVenda': 6.1541, 'dataHoraCotacao': '2024-12-24 11:10:05.681'}, {'cotacaoCompra': 6.165, 'cotacaoVenda': 6.1656, 'dataHoraCotacao': '2024-12-26 13:09:30.003'}, {'cotacaoCompra': 6.1985, 'cotacaoVenda': 6.1991, 'dataHoraCotacao': '2024-12-27 13:03:30.393'}, {'cotacaoCompra': 6.1917, 'cotacaoVenda': 6.1923, 'dataHoraCotacao': '2024-12-30 13:06:26.618'}, {'cotacaoCompra': 6.1917, 'cotacaoVenda': 6.1923, 'dataHoraCotacao': '2024-12-31 10:04:09.264'}, {'cotacaoCompra': 6.208, 'cotacaoVenda': 6.2086, 'dataHoraCotacao': '2025-01-02 13:09:42.489'}, {'cotacaoCompra': 6.1557, 'cotacaoVenda': 6.1563, 'dataHoraCotacao': '2025-01-03 13:07:30.503'}, {'cotacaoCompra': 6.1113, 'cotacaoVenda': 6.1119, 'dataHoraCotacao': '2025-01-06 13:06:28.533'}, {'cotacaoCompra': 6.0735, 'cotacaoVenda': 6.0741, 'dataHoraCotacao': '2025-01-07 13:03:28.766'}, {'cotacaoCompra': 6.1315, 'cotacaoVenda': 6.1321, 'dataHoraCotacao': '2025-01-08 13:08:59.784'}, {'cotacaoCompra': 6.089, 'cotacaoVenda': 6.0896, 'dataHoraCotacao': '2025-01-09 13:03:27.828'}, {'cotacaoCompra': 6.0959, 'cotacaoVenda': 6.0965, 'dataHoraCotacao': '2025-01-10 13:04:30.342'}, {'cotacaoCompra': 6.1073, 'cotacaoVenda': 6.1079, 'dataHoraCotacao': '2025-01-13 13:03:30.256'}, {'cotacaoCompra': 6.0665, 'cotacaoVenda': 6.0671, 'dataHoraCotacao': '2025-01-14 13:07:27.066'}, {'cotacaoCompra': 6.0371, 'cotacaoVenda': 6.0377, 'dataHoraCotacao': '2025-01-15 13:06:07.747'}, {'cotacaoCompra': 6.0316, 'cotacaoVenda': 6.0322, 'dataHoraCotacao': '2025-01-16 13:06:28.873'}, {'cotacaoCompra': 6.0603, 'cotacaoVenda': 6.0609, 'dataHoraCotacao': '2025-01-17 13:11:29.354'}, {'cotacaoCompra': 6.0492, 'cotacaoVenda': 6.0498, 'dataHoraCotacao': '2025-01-20 13:07:31.452'}, {'cotacaoCompra': 6.0434, 'cotacaoVenda': 6.044, 'dataHoraCotacao': '2025-01-21 13:11:47.015'}, {'cotacaoCompra': 5.9668, 'cotacaoVenda': 5.9674, 'dataHoraCotacao': '2025-01-22 13:03:29.96'}, {'cotacaoCompra': 5.9393, 'cotacaoVenda': 5.9399, 'dataHoraCotacao': '2025-01-23 13:08:28.183'}, {'cotacaoCompra': 5.8919, 'cotacaoVenda': 5.8925, 'dataHoraCotacao': '2025-01-24 13:03:26.922'}, {'cotacaoCompra': 5.9266, 'cotacaoVenda': 5.9272, 'dataHoraCotacao': '2025-01-27 13:07:48.122'}, {'cotacaoCompra': 5.8924, 'cotacaoVenda': 5.893, 'dataHoraCotacao': '2025-01-28 13:08:29.32'}, {'cotacaoCompra': 5.859, 'cotacaoVenda': 5.8596, 'dataHoraCotacao': '2025-01-29 13:06:27.048'}, {'cotacaoCompra': 5.9, 'cotacaoVenda': 5.9006, 'dataHoraCotacao': '2025-01-30 13:10:28.513'}, {'cotacaoCompra': 5.8295, 'cotacaoVenda': 5.8301, 'dataHoraCotacao': '2025-01-31 13:03:54.994'}, {'cotacaoCompra': 5.8681, 'cotacaoVenda': 5.8687, 'dataHoraCotacao': '2025-02-03 13:06:26.028'}, {'cotacaoCompra': 5.7921, 'cotacaoVenda': 5.7927, 'dataHoraCotacao': '2025-02-04 13:05:40.177'}, {'cotacaoCompra': 5.7991, 'cotacaoVenda': 5.7997, 'dataHoraCotacao': '2025-02-05 13:11:27.245'}, {'cotacaoCompra': 5.785, 'cotacaoVenda': 5.7856, 'dataHoraCotacao': '2025-02-06 13:08:27.966'}, {'cotacaoCompra': 5.7551, 'cotacaoVenda': 5.7557, 'dataHoraCotacao': '2025-02-07 13:10:30.349'}, {'cotacaoCompra': 5.7802, 'cotacaoVenda': 5.7808, 'dataHoraCotacao': '2025-02-10 13:11:28.726'}, {'cotacaoCompra': 5.7782, 'cotacaoVenda': 5.7788, 'dataHoraCotacao': '2025-02-11 13:06:28.511'}, {'cotacaoCompra': 5.7705, 'cotacaoVenda': 5.7711, 'dataHoraCotacao': '2025-02-12 13:02:27.08'}, {'cotacaoCompra': 5.7782, 'cotacaoVenda': 5.7788, 'dataHoraCotacao': '2025-02-13 13:03:25.728'}, {'cotacaoCompra': 5.7277, 'cotacaoVenda': 5.7283, 'dataHoraCotacao': '2025-02-14 13:11:25.842'}, {'cotacaoCompra': 5.7099, 'cotacaoVenda': 5.7105, 'dataHoraCotacao': '2025-02-17 13:07:25.989'}, {'cotacaoCompra': 5.6973, 'cotacaoVenda': 5.6979, 'dataHoraCotacao': '2025-02-18 13:09:27.38'}, {'cotacaoCompra': 5.7081, 'cotacaoVenda': 5.7087, 'dataHoraCotacao': '2025-02-19 13:07:31.091'}, {'cotacaoCompra': 5.7013, 'cotacaoVenda': 5.7019, 'dataHoraCotacao': '2025-02-20 13:11:27.341'}, {'cotacaoCompra': 5.7021, 'cotacaoVenda': 5.7027, 'dataHoraCotacao': '2025-02-21 13:02:27.066'}, {'cotacaoCompra': 5.7252, 'cotacaoVenda': 5.7258, 'dataHoraCotacao': '2025-02-24 13:06:26.536'}, {'cotacaoCompra': 5.7773, 'cotacaoVenda': 5.7779, 'dataHoraCotacao': '2025-02-25 13:08:29.097'}, {'cotacaoCompra': 5.7751, 'cotacaoVenda': 5.7757, 'dataHoraCotacao': '2025-02-26 13:06:28.007'}, {'cotacaoCompra': 5.8222, 'cotacaoVenda': 5.8228, 'dataHoraCotacao': '2025-02-27 13:02:27.094'}, {'cotacaoCompra': 5.8482, 'cotacaoVenda': 5.8488, 'dataHoraCotacao': '2025-02-28 13:04:29.1'}, {'cotacaoCompra': 5.7908, 'cotacaoVenda': 5.7914, 'dataHoraCotacao': '2025-03-05 15:36:28.199'}, {'cotacaoCompra': 5.7483, 'cotacaoVenda': 5.7489, 'dataHoraCotacao': '2025-03-06 13:11:00.814'}, {'cotacaoCompra': 5.7682, 'cotacaoVenda': 5.7688, 'dataHoraCotacao': '2025-03-07 13:08:41.977'}, {'cotacaoCompra': 5.7924, 'cotacaoVenda': 5.793, 'dataHoraCotacao': '2025-03-10 13:03:01.674'}, {'cotacaoCompra': 5.8341, 'cotacaoVenda': 5.8346, 'dataHoraCotacao': '2025-03-11 13:05:28.232'}, {'cotacaoCompra': 5.8262, 'cotacaoVenda': 5.8268, 'dataHoraCotacao': '2025-03-12 13:08:28.781'}, {'cotacaoCompra': 5.8125, 'cotacaoVenda': 5.8131, 'dataHoraCotacao': '2025-03-13 13:03:28.272'}, {'cotacaoCompra': 5.7413, 'cotacaoVenda': 5.7419, 'dataHoraCotacao': '2025-03-14 13:06:19.269'}, {'cotacaoCompra': 5.7076, 'cotacaoVenda': 5.7082, 'dataHoraCotacao': '2025-03-17 13:11:28.771'}, {'cotacaoCompra': 5.6846, 'cotacaoVenda': 5.6852, 'dataHoraCotacao': '2025-03-18 13:05:31.31'}, {'cotacaoCompra': 5.6651, 'cotacaoVenda': 5.6657, 'dataHoraCotacao': '2025-03-19 13:08:27.744'}, {'cotacaoCompra': 5.6622, 'cotacaoVenda': 5.6628, 'dataHoraCotacao': '2025-03-20 13:05:28.111'}, {'cotacaoCompra': 5.7235, 'cotacaoVenda': 5.7241, 'dataHoraCotacao': '2025-03-21 13:03:25.486'}, {'cotacaoCompra': 5.7397, 'cotacaoVenda': 5.7403, 'dataHoraCotacao': '2025-03-24 13:06:25.642'}, {'cotacaoCompra': 5.6986, 'cotacaoVenda': 5.6992, 'dataHoraCotacao': '2025-03-25 13:04:31.093'}, {'cotacaoCompra': 5.7292, 'cotacaoVenda': 5.7298, 'dataHoraCotacao': '2025-03-26 13:05:51.728'}, {'cotacaoCompra': 5.7468, 'cotacaoVenda': 5.7474, 'dataHoraCotacao': '2025-03-27 13:04:05.646'}, {'cotacaoCompra': 5.7654, 'cotacaoVenda': 5.766, 'dataHoraCotacao': '2025-03-28 13:02:32.689'}, {'cotacaoCompra': 5.7416, 'cotacaoVenda': 5.7422, 'dataHoraCotacao': '2025-03-31 13:11:27.506'}, {'cotacaoCompra': 5.7045, 'cotacaoVenda': 5.7051, 'dataHoraCotacao': '2025-04-01 13:07:29.553'}, {'cotacaoCompra': 5.6918, 'cotacaoVenda': 5.6923, 'dataHoraCotacao': '2025-04-02 13:02:29.942'}, {'cotacaoCompra': 5.6062, 'cotacaoVenda': 5.6067, 'dataHoraCotacao': '2025-04-03 13:03:27.756'}, {'cotacaoCompra': 5.7771, 'cotacaoVenda': 5.7777, 'dataHoraCotacao': '2025-04-04 13:07:28.528'}, {'cotacaoCompra': 5.8871, 'cotacaoVenda': 5.8877, 'dataHoraCotacao': '2025-04-07 13:09:28.183'}, {'cotacaoCompra': 5.9362, 'cotacaoVenda': 5.9368, 'dataHoraCotacao': '2025-04-08 13:04:41.076'}, {'cotacaoCompra': 6.0599, 'cotacaoVenda': 6.0605, 'dataHoraCotacao': '2025-04-09 13:06:01.578'}, {'cotacaoCompra': 5.9109, 'cotacaoVenda': 5.9115, 'dataHoraCotacao': '2025-04-10 13:09:27.619'}, {'cotacaoCompra': 5.8731, 'cotacaoVenda': 5.8737, 'dataHoraCotacao': '2025-04-11 13:08:27.767'}, {'cotacaoCompra': 5.8419, 'cotacaoVenda': 5.8425, 'dataHoraCotacao': '2025-04-14 13:09:48.507'}, {'cotacaoCompra': 5.8701, 'cotacaoVenda': 5.8707, 'dataHoraCotacao': '2025-04-15 13:07:27.338'}, {'cotacaoCompra': 5.8802, 'cotacaoVenda': 5.8808, 'dataHoraCotacao': '2025-04-16 13:10:28.345'}, {'cotacaoCompra': 5.8553, 'cotacaoVenda': 5.8559, 'dataHoraCotacao': '2025-04-17 13:11:49.566'}, {'cotacaoCompra': 5.749, 'cotacaoVenda': 5.7496, 'dataHoraCotacao': '2025-04-22 13:09:35.629'}, {'cotacaoCompra': 5.6874, 'cotacaoVenda': 5.688, 'dataHoraCotacao': '2025-04-23 13:06:30.416'}, {'cotacaoCompra': 5.6874, 'cotacaoVenda': 5.688, 'dataHoraCotacao': '2025-04-23 13:06:30.443'}, {'cotacaoCompra': 5.6732, 'cotacaoVenda': 5.6738, 'dataHoraCotacao': '2025-04-24 13:04:29.639'}, {'cotacaoCompra': 5.684, 'cotacaoVenda': 5.6846, 'dataHoraCotacao': '2025-04-25 13:09:26.592'}, {'cotacaoCompra': 5.6675, 'cotacaoVenda': 5.6681, 'dataHoraCotacao': '2025-04-28 13:04:26.378'}, {'cotacaoCompra': 5.6461, 'cotacaoVenda': 5.6467, 'dataHoraCotacao': '2025-04-29 13:05:29.951'}, {'cotacaoCompra': 5.6602, 'cotacaoVenda': 5.6608, 'dataHoraCotacao': '2025-04-30 13:11:27.944'}, {'cotacaoCompra': 5.6388, 'cotacaoVenda': 5.6394, 'dataHoraCotacao': '2025-05-02 13:10:27.144'}, {'cotacaoCompra': 5.6514, 'cotacaoVenda': 5.652, 'dataHoraCotacao': '2025-05-05 13:09:28.604'}, {'cotacaoCompra': 5.7204, 'cotacaoVenda': 5.721, 'dataHoraCotacao': '2025-05-06 13:03:25.683'}, {'cotacaoCompra': 5.7368, 'cotacaoVenda': 5.7375, 'dataHoraCotacao': '2025-05-07 13:09:26.499'}, {'cotacaoCompra': 5.6854, 'cotacaoVenda': 5.686, 'dataHoraCotacao': '2025-05-08 13:06:28.214'}, {'cotacaoCompra': 5.6505, 'cotacaoVenda': 5.6511, 'dataHoraCotacao': '2025-05-09 13:08:28.902'}, {'cotacaoCompra': 5.6816, 'cotacaoVenda': 5.6822, 'dataHoraCotacao': '2025-05-12 13:07:51.706'}, {'cotacaoCompra': 5.6256, 'cotacaoVenda': 5.6262, 'dataHoraCotacao': '2025-05-13 13:02:29.162'}, {'cotacaoCompra': 5.6094, 'cotacaoVenda': 5.61, 'dataHoraCotacao': '2025-05-14 13:07:28.015'}, {'cotacaoCompra': 5.6322, 'cotacaoVenda': 5.6328, 'dataHoraCotacao': '2025-05-15 13:03:51.789'}]\n"
     ]
    }
   ],
   "source": [
    "import requests\n",
    "\n",
    "url = \"https://olinda.bcb.gov.br/olinda/servico/PTAX/versao/v1/odata/CotacaoDolarPeriodo(dataInicial=@dataInicial,dataFinalCotacao=@dataFinalCotacao)?@dataInicial='01-01-2024'&@dataFinalCotacao='05-15-2025'&$top=500&$format=json&$select=cotacaoCompra,cotacaoVenda,dataHoraCotacao\"\n",
    "response = requests.get(url)\n",
    "\n",
    "if response.status_code == 200 and response.content:\n",
    "    data = response.json().get('value', [])\n",
    "    print(data)\n",
    "else:\n",
    "    print(f\"Erro ou resposta vazia: status {response.status_code}\")\n",
    "    print(response.text)\n"
   ]
  },
  {
   "cell_type": "code",
   "execution_count": 61,
   "id": "9e08b2ee",
   "metadata": {},
   "outputs": [],
   "source": [
    "import pandas as pd\n",
    "df = pd.DataFrame(data)\n",
    "df.to_csv(r'D:\\Projetos\\Python\\Data_Engineering\\dolar-pipeline\\data\\dados.csv', index=False)"
   ]
  },
  {
   "cell_type": "code",
   "execution_count": 62,
   "id": "b641377b",
   "metadata": {},
   "outputs": [],
   "source": [
    "df['dataHoraCotacao'] = pd.to_datetime(df['dataHoraCotacao'])\n",
    "df['data'] = df['dataHoraCotacao'].dt.date"
   ]
  },
  {
   "cell_type": "code",
   "execution_count": 63,
   "id": "3217b768",
   "metadata": {},
   "outputs": [
    {
     "data": {
      "text/html": [
       "<div>\n",
       "<style scoped>\n",
       "    .dataframe tbody tr th:only-of-type {\n",
       "        vertical-align: middle;\n",
       "    }\n",
       "\n",
       "    .dataframe tbody tr th {\n",
       "        vertical-align: top;\n",
       "    }\n",
       "\n",
       "    .dataframe thead th {\n",
       "        text-align: right;\n",
       "    }\n",
       "</style>\n",
       "<table border=\"1\" class=\"dataframe\">\n",
       "  <thead>\n",
       "    <tr style=\"text-align: right;\">\n",
       "      <th></th>\n",
       "      <th>cotacaoCompra</th>\n",
       "      <th>cotacaoVenda</th>\n",
       "      <th>dataHoraCotacao</th>\n",
       "      <th>data</th>\n",
       "    </tr>\n",
       "  </thead>\n",
       "  <tbody>\n",
       "    <tr>\n",
       "      <th>0</th>\n",
       "      <td>4.8910</td>\n",
       "      <td>4.8916</td>\n",
       "      <td>2024-01-02 13:05:50.319</td>\n",
       "      <td>2024-01-02</td>\n",
       "    </tr>\n",
       "    <tr>\n",
       "      <th>1</th>\n",
       "      <td>4.9206</td>\n",
       "      <td>4.9212</td>\n",
       "      <td>2024-01-03 13:14:41.153</td>\n",
       "      <td>2024-01-03</td>\n",
       "    </tr>\n",
       "    <tr>\n",
       "      <th>2</th>\n",
       "      <td>4.9182</td>\n",
       "      <td>4.9188</td>\n",
       "      <td>2024-01-04 13:05:35.048</td>\n",
       "      <td>2024-01-04</td>\n",
       "    </tr>\n",
       "    <tr>\n",
       "      <th>3</th>\n",
       "      <td>4.8893</td>\n",
       "      <td>4.8899</td>\n",
       "      <td>2024-01-05 13:10:31.843</td>\n",
       "      <td>2024-01-05</td>\n",
       "    </tr>\n",
       "    <tr>\n",
       "      <th>4</th>\n",
       "      <td>4.8844</td>\n",
       "      <td>4.8850</td>\n",
       "      <td>2024-01-08 13:11:30.760</td>\n",
       "      <td>2024-01-08</td>\n",
       "    </tr>\n",
       "  </tbody>\n",
       "</table>\n",
       "</div>"
      ],
      "text/plain": [
       "   cotacaoCompra  cotacaoVenda         dataHoraCotacao        data\n",
       "0         4.8910        4.8916 2024-01-02 13:05:50.319  2024-01-02\n",
       "1         4.9206        4.9212 2024-01-03 13:14:41.153  2024-01-03\n",
       "2         4.9182        4.9188 2024-01-04 13:05:35.048  2024-01-04\n",
       "3         4.8893        4.8899 2024-01-05 13:10:31.843  2024-01-05\n",
       "4         4.8844        4.8850 2024-01-08 13:11:30.760  2024-01-08"
      ]
     },
     "execution_count": 63,
     "metadata": {},
     "output_type": "execute_result"
    }
   ],
   "source": [
    "df.head()"
   ]
  },
  {
   "cell_type": "code",
   "execution_count": 64,
   "id": "44a96b3b",
   "metadata": {},
   "outputs": [],
   "source": [
    "datas = pd.date_range(start='2024-01-01', end='2025-05-15', freq='D')\n",
    "df_datas = pd.DataFrame(datas, columns=['data'])"
   ]
  },
  {
   "cell_type": "code",
   "execution_count": 65,
   "id": "efe37019",
   "metadata": {},
   "outputs": [],
   "source": [
    "df['data'] = pd.to_datetime(df['data'])         # Isso transforma '2024-01-02' em datetime64\n",
    "df_datas['data'] = pd.to_datetime(df_datas['data'])"
   ]
  },
  {
   "cell_type": "code",
   "execution_count": null,
   "id": "a3d379ed",
   "metadata": {},
   "outputs": [
    {
     "name": "stderr",
     "output_type": "stream",
     "text": [
      "C:\\Users\\Arthur Coutinho\\AppData\\Local\\Temp\\ipykernel_41552\\1836214132.py:5: FutureWarning: DataFrame.fillna with 'method' is deprecated and will raise in a future version. Use obj.ffill() or obj.bfill() instead.\n",
      "  df_merged.fillna(method='ffill', inplace=True)\n"
     ]
    }
   ],
   "source": [
    "df_merged = pd.merge(df_datas, df[['data', 'cotacaoCompra', 'cotacaoVenda', 'dataHoraCotacao']], on='data', how='left')\n",
    "df['data'] = pd.to_datetime(df['data'])\n",
    "df_datas['data'] = pd.to_datetime(df_datas['data'])\n",
    "df_merged.sort_values('data', inplace=True)\n",
    "df_merged.fillna(method='bfill', inplace=True)  # preenche o primeiro valor\n",
    "df_merged.fillna(method='ffill', inplace=True) "
   ]
  },
  {
   "cell_type": "code",
   "execution_count": 67,
   "id": "30306cc1",
   "metadata": {},
   "outputs": [],
   "source": [
    "df_merged.to_csv(r'D:\\Projetos\\Python\\Data_Engineering\\dolar-pipeline\\data\\df_merged.csv', index=False)"
   ]
  },
  {
   "cell_type": "code",
   "execution_count": null,
   "id": "1dadcc08",
   "metadata": {},
   "outputs": [],
   "source": []
  }
 ],
 "metadata": {
  "kernelspec": {
   "display_name": "venv",
   "language": "python",
   "name": "python3"
  },
  "language_info": {
   "codemirror_mode": {
    "name": "ipython",
    "version": 3
   },
   "file_extension": ".py",
   "mimetype": "text/x-python",
   "name": "python",
   "nbconvert_exporter": "python",
   "pygments_lexer": "ipython3",
   "version": "3.12.0"
  }
 },
 "nbformat": 4,
 "nbformat_minor": 5
}
