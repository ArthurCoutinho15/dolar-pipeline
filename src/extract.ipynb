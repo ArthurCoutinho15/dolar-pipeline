{
 "cells": [
  {
   "cell_type": "code",
   "execution_count": null,
   "id": "a2d8dddc",
   "metadata": {},
   "outputs": [],
   "source": [
    "import pandas as pd\n",
    "\n",
    "df_cotacao_dolar = pd.read_excel('D:\\\\Projetos\\\\Python\\\\Data_Engineering\\\\dolar-pipeline\\\\data\\\\dados_finais.xlsx', sheet_name='cotacao_dolar')\n",
    "df_cotacao_dolar.head()"
   ]
  },
  {
   "cell_type": "code",
   "execution_count": null,
   "id": "cc153ece",
   "metadata": {},
   "outputs": [],
   "source": [
    "df_posicao_brl = pd.read_excel('D:\\\\Projetos\\\\Python\\\\Data_Engineering\\\\dolar-pipeline\\\\data\\\\dados_finais.xlsx', sheet_name='posicao_brl')\n",
    "df_posicao_brl.head()\n"
   ]
  },
  {
   "cell_type": "code",
   "execution_count": null,
   "id": "5b5bce1f",
   "metadata": {},
   "outputs": [],
   "source": [
    "df_receita_mes = pd.read_excel('D:\\\\Projetos\\\\Python\\\\Data_Engineering\\\\dolar-pipeline\\\\data\\\\dados_finais.xlsx', sheet_name='receita_mes')\n",
    "df_receita_mes.head()\n"
   ]
  }
 ],
 "metadata": {
  "kernelspec": {
   "display_name": "venv",
   "language": "python",
   "name": "python3"
  },
  "language_info": {
   "codemirror_mode": {
    "name": "ipython",
    "version": 3
   },
   "file_extension": ".py",
   "mimetype": "text/x-python",
   "name": "python",
   "nbconvert_exporter": "python",
   "pygments_lexer": "ipython3",
   "version": "3.12.0"
  }
 },
 "nbformat": 4,
 "nbformat_minor": 5
}
